{
 "cells": [
  {
   "cell_type": "markdown",
   "id": "d491921a",
   "metadata": {},
   "source": [
    "### This notebook contains python programming "
   ]
  },
  {
   "cell_type": "code",
   "execution_count": 2,
   "id": "470ab961",
   "metadata": {},
   "outputs": [
    {
     "name": "stdout",
     "output_type": "stream",
     "text": [
      "Hello world!\n"
     ]
    }
   ],
   "source": [
    "print(\"Hello world!\")"
   ]
  },
  {
   "cell_type": "code",
   "execution_count": 1,
   "id": "58726107",
   "metadata": {},
   "outputs": [
    {
     "name": "stdout",
     "output_type": "stream",
     "text": [
      "10\n",
      "a\n",
      "30\n"
     ]
    }
   ],
   "source": [
    "#variables\n",
    "a=10\n",
    "b=20\n",
    "print(a)\n",
    "print(\"a\")\n",
    "print(a+b)\n",
    "_1name=\"abcd\""
   ]
  },
  {
   "cell_type": "code",
   "execution_count": 1,
   "id": "a3fd6763",
   "metadata": {},
   "outputs": [
    {
     "name": "stdout",
     "output_type": "stream",
     "text": [
      "<class 'float'>\n",
      "<class 'int'>\n",
      "10\n"
     ]
    }
   ],
   "source": [
    "#Datatypes\n",
    "Name=\"abcd\" #string\n",
    "a=10 #int\n",
    "is_student=True #Boolean\n",
    "weight=0.4 #float\n",
    "print(type(weight))\n",
    "print(type(a))\n",
    "print(a)"
   ]
  },
  {
   "cell_type": "code",
   "execution_count": 4,
   "id": "a265b6ce",
   "metadata": {},
   "outputs": [
    {
     "name": "stdout",
     "output_type": "stream",
     "text": [
      "18.0\n"
     ]
    }
   ],
   "source": [
    "#type conversion\n",
    "age=18\n",
    "age=float(age)\n",
    "print(age)"
   ]
  },
  {
   "cell_type": "code",
   "execution_count": 1,
   "id": "f108872b",
   "metadata": {},
   "outputs": [
    {
     "name": "stdout",
     "output_type": "stream",
     "text": [
      "after swaping: a= 10 b= 5\n",
      "after swaping: a= 10 b= 5\n",
      "after swaping: a= 10 b= 5\n"
     ]
    }
   ],
   "source": [
    "#swapping\n",
    "#1.using temporary variable\n",
    "a=5\n",
    "b=10\n",
    "temp=a\n",
    "a=b\n",
    "b=temp\n",
    "print(\"after swaping:\",\"a=\",a,\"b=\",b)\n",
    "#2.using tuple unpacking\n",
    "a=5\n",
    "b=10\n",
    "a,b=b,a\n",
    "print(\"after swaping:\",\"a=\",a,\"b=\",b)\n",
    "#3.using arithmetic operations\n",
    "a=5\n",
    "b=10\n",
    "a=a+b\n",
    "b=a-b\n",
    "a=a-b\n",
    "print(\"after swaping:\",\"a=\",a,\"b=\",b)"
   ]
  },
  {
   "cell_type": "code",
   "execution_count": null,
   "id": "6efaaf73",
   "metadata": {},
   "outputs": [
    {
     "name": "stdout",
     "output_type": "stream",
     "text": [
      "20\n",
      "Love\n",
      "abc loves xyz.Age difference is 2\n"
     ]
    }
   ],
   "source": [
    "#input and output in python\n",
    "age=input(\"age=\") #input\n",
    "print(age)\n",
    "\n",
    "#concatenation:connecting one string to another string\n",
    "print(\"Love\")\n",
    "boy_name=input(\"boy_name:\")\n",
    "boy_age=int(input(\"boy_age:\"))\n",
    "girl_name=input(\"girl_name:\")\n",
    "girl_age=int(input(\"girl_age:\"))\n",
    "age_diff=abs(boy_age-girl_age) #absolute value(abs):it will give positive value only \n",
    "print(f\"{boy_name} loves {girl_name}.Age difference is {age_diff}\") #formatted string"
   ]
  },
  {
   "cell_type": "code",
   "execution_count": 1,
   "id": "59a7ef76",
   "metadata": {},
   "outputs": [
    {
     "name": "stdout",
     "output_type": "stream",
     "text": [
      "abdul kalam\n",
      "leader\t\n",
      "WARNING!\n",
      "warning!\n",
      "Warning!\n",
      "Error\n",
      "8\n",
      "Chandan said 'hello'\n",
      "s\n"
     ]
    }
   ],
   "source": [
    "# concatenation and repeatation\n",
    "first_name=\"abdul\"\n",
    "last_name=\"kalam\"\n",
    "print(first_name +\" \"+ last_name)\n",
    "message=\"leader\\t\" *1\n",
    "print(message)\n",
    "\n",
    "#string methods\n",
    "message=\"Warning!\"\n",
    "print(message.upper())\n",
    "print(message.lower())\n",
    "print(message.strip())#removes leading and trailing spaces from a string\n",
    "print(message.replace(\"Warning!\",\"Error\"))\n",
    "print(len(message))\n",
    "\n",
    "name=\"Chandan said 'hello'\" #we should use single quotes inside the double quotes or viceversa.\n",
    "#if we use double quotes inside double quotes it will give an error \n",
    "print(name)\n",
    "\n",
    "#slicing\n",
    "name=\"Nagalakshmi\"\n",
    "print(name[-4])"
   ]
  },
  {
   "cell_type": "code",
   "execution_count": 1,
   "id": "87592e9e",
   "metadata": {},
   "outputs": [
    {
     "name": "stdout",
     "output_type": "stream",
     "text": [
      "<class 'NoneType'>\n",
      "110\n",
      "False\n",
      "False\n",
      "True\n",
      "True\n",
      "True\n",
      "False\n",
      "True\n",
      "False\n",
      "True\n",
      "True\n",
      "True\n",
      "False\n",
      "False\n",
      "101\n"
     ]
    }
   ],
   "source": [
    "#None type\n",
    "x=None\n",
    "print(type(x))\n",
    "\n",
    "#assignment operators\n",
    "a=10\n",
    "a+=100 #a=a+100\n",
    "print(a)\n",
    "\n",
    "#comparision operators(gives True or False)\n",
    "a=10\n",
    "b=20\n",
    "print(a==b)\n",
    "print(a>b)\n",
    "print(a<b)\n",
    "print(a!=b)\n",
    "\n",
    "#logical operators\n",
    "print(True and True)\n",
    "print(True and False)\n",
    "print(True or False)\n",
    "print(False or False)\n",
    "print(not(False))\n",
    "\n",
    "#membership operators\n",
    "my_list=[1,2,3,4,5]\n",
    "my_string=\"python\"\n",
    "print(3 in my_list)\n",
    "print(\"o\" in my_string)\n",
    "print(7 in my_list)\n",
    "print(\"r\" in my_string)\n",
    "\n",
    "#bitwise operators\n",
    "a=000\n",
    "b=101\n",
    "print(a+b)"
   ]
  },
  {
   "cell_type": "code",
   "execution_count": 2,
   "id": "4cbd9a0a",
   "metadata": {},
   "outputs": [
    {
     "name": "stdout",
     "output_type": "stream",
     "text": [
      "['Bru', 'sugar', 'milk', 'Bru', 1, [1, 2, 3]]\n",
      "Bru\n",
      "[1, 2, 3]\n",
      "['Bru', 'sugar', 'milk', 'Bru', 1]\n",
      "['Bru', 'sugar', 'Bru', 1]\n",
      "['Bru', 'sugar', 'Bru', 1, 'milk']\n",
      "apple\n",
      "cherry\n",
      "['ab', 'bc', 'cd', 'de']\n",
      "['ab', 'bc', 'cd', 'de', 'cd']\n",
      "['ab', 'bc', 'cd', 'cd', 'de', 'cd']\n",
      "['ab', 'bc', 'cd', 'cd', 'de']\n",
      "['ab', 'bc', 'cd', 'de']\n",
      "[]\n",
      "[100, 200, 300, 400]\n",
      "6\n",
      "[100, 200, 300, 400, 400, 500]\n",
      "1900\n",
      "2\n",
      "2\n",
      "[400, 500, 400, 300, 200, 100]\n",
      "8\n"
     ]
    }
   ],
   "source": [
    "#lists in python\n",
    "items=[\"Bru\",\"sugar\",\"milk\",\"Bru\",1,[1,2,3]] #list can contain any of the datatype\n",
    "print(items)\n",
    "print(items[0])\n",
    "print(items[-1])\n",
    "items.pop() #removes last item\n",
    "print(items)\n",
    "items.pop(2)\n",
    "print(items)\n",
    "items.append(\"milk\") #adds the element at last\n",
    "print(items)\n",
    "\n",
    "#accessing the elements\n",
    "fruits=[\"apple\",\"orange\",\"cherry\"]\n",
    "print(fruits[0])\n",
    "print(fruits[-1])\n",
    "\n",
    "#modifying lists\n",
    "#adding elements------>append()=adds elements at last  |  insert()=adds the elements where we want\n",
    "#removing elements---->pop()=removes element at last  |  remove()=removes the element which element we want to remove\n",
    "names=[\"ab\",\"bc\",\"cd\",\"de\"]\n",
    "print(names)\n",
    "names.append(\"cd\")\n",
    "print(names)\n",
    "names.insert(2,\"cd\")\n",
    "print(names)\n",
    "names.pop()\n",
    "print(names)\n",
    "names.remove(\"cd\")\n",
    "print(names)\n",
    "#clear-->removes all the elements from the list\n",
    "names.clear()\n",
    "print(names) \n",
    "\n",
    "#slicing the lists\n",
    "l=[100,200,300,400,500]\n",
    "print(l[0:4])\n",
    "\n",
    "#lists functions and methods\n",
    "l=[100,200,300,400,500,400]\n",
    "print(len(l))\n",
    "print(sorted(l))\n",
    "print(sum(l))\n",
    "print(l.index(300)) #index(elements)\n",
    "print(l.count(400))\n",
    "l.reverse()\n",
    "print(l)\n",
    "\n",
    "#nested lists\n",
    "matrix=[[1,2,3],\n",
    "        [4,5,6],\n",
    "        [7,8,9]]\n",
    "print(matrix[2][1])\n"
   ]
  }
 ],
 "metadata": {
  "kernelspec": {
   "display_name": "Python 3",
   "language": "python",
   "name": "python3"
  },
  "language_info": {
   "codemirror_mode": {
    "name": "ipython",
    "version": 3
   },
   "file_extension": ".py",
   "mimetype": "text/x-python",
   "name": "python",
   "nbconvert_exporter": "python",
   "pygments_lexer": "ipython3",
   "version": "3.7.9"
  }
 },
 "nbformat": 4,
 "nbformat_minor": 5
}
