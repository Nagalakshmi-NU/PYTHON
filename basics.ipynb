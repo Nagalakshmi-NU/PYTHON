{
 "cells": [
  {
   "cell_type": "markdown",
   "id": "d491921a",
   "metadata": {},
   "source": [
    "### This notebook contains python programming "
   ]
  },
  {
   "cell_type": "code",
   "execution_count": 2,
   "id": "470ab961",
   "metadata": {},
   "outputs": [
    {
     "name": "stdout",
     "output_type": "stream",
     "text": [
      "Hello world!\n"
     ]
    }
   ],
   "source": [
    "print(\"Hello world!\")"
   ]
  },
  {
   "cell_type": "code",
   "execution_count": 1,
   "id": "58726107",
   "metadata": {},
   "outputs": [
    {
     "name": "stdout",
     "output_type": "stream",
     "text": [
      "10\n",
      "a\n",
      "30\n"
     ]
    }
   ],
   "source": [
    "#variables\n",
    "a=10\n",
    "b=20\n",
    "print(a)\n",
    "print(\"a\")\n",
    "print(a+b)\n",
    "_1name=\"abcd\""
   ]
  },
  {
   "cell_type": "code",
   "execution_count": 1,
   "id": "a3fd6763",
   "metadata": {},
   "outputs": [
    {
     "name": "stdout",
     "output_type": "stream",
     "text": [
      "<class 'float'>\n",
      "<class 'int'>\n",
      "10\n"
     ]
    }
   ],
   "source": [
    "#Datatypes\n",
    "Name=\"abcd\" #string\n",
    "a=10 #int\n",
    "is_student=True #Boolean\n",
    "weight=0.4 #float\n",
    "print(type(weight))\n",
    "print(type(a))\n",
    "print(a)"
   ]
  },
  {
   "cell_type": "code",
   "execution_count": 4,
   "id": "a265b6ce",
   "metadata": {},
   "outputs": [
    {
     "name": "stdout",
     "output_type": "stream",
     "text": [
      "18.0\n"
     ]
    }
   ],
   "source": [
    "#type conversion\n",
    "age=18\n",
    "age=float(age)\n",
    "print(age)"
   ]
  },
  {
   "cell_type": "code",
   "execution_count": 1,
   "id": "f108872b",
   "metadata": {},
   "outputs": [
    {
     "name": "stdout",
     "output_type": "stream",
     "text": [
      "after swaping: a= 10 b= 5\n",
      "after swaping: a= 10 b= 5\n",
      "after swaping: a= 10 b= 5\n"
     ]
    }
   ],
   "source": [
    "#swapping\n",
    "#1.using temporary variable\n",
    "a=5\n",
    "b=10\n",
    "temp=a\n",
    "a=b\n",
    "b=temp\n",
    "print(\"after swaping:\",\"a=\",a,\"b=\",b)\n",
    "#2.using tuple unpacking\n",
    "a=5\n",
    "b=10\n",
    "a,b=b,a\n",
    "print(\"after swaping:\",\"a=\",a,\"b=\",b)\n",
    "#3.using arithmetic operations\n",
    "a=5\n",
    "b=10\n",
    "a=a+b\n",
    "b=a-b\n",
    "a=a-b\n",
    "print(\"after swaping:\",\"a=\",a,\"b=\",b)"
   ]
  }
 ],
 "metadata": {
  "kernelspec": {
   "display_name": "Python 3",
   "language": "python",
   "name": "python3"
  },
  "language_info": {
   "codemirror_mode": {
    "name": "ipython",
    "version": 3
   },
   "file_extension": ".py",
   "mimetype": "text/x-python",
   "name": "python",
   "nbconvert_exporter": "python",
   "pygments_lexer": "ipython3",
   "version": "3.7.9"
  }
 },
 "nbformat": 4,
 "nbformat_minor": 5
}
